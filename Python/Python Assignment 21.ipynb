{
 "cells": [
  {
   "cell_type": "markdown",
   "id": "746a7063",
   "metadata": {},
   "source": [
    "# Python Assignment 21"
   ]
  },
  {
   "cell_type": "markdown",
   "id": "8cb2bed6",
   "metadata": {},
   "source": [
    "# 1. Add the current date to the text file today.txt as a string."
   ]
  },
  {
   "cell_type": "code",
   "execution_count": 1,
   "id": "f3475078",
   "metadata": {},
   "outputs": [],
   "source": [
    "from datetime import date\n",
    "\n",
    "# get current date\n",
    "today = date.today()\n",
    "\n",
    "# open file in append mode\n",
    "with open('today.txt', 'a') as file:\n",
    "    # write date to file\n",
    "    file.write(str(today) + '\\n')\n"
   ]
  },
  {
   "cell_type": "markdown",
   "id": "60604e64",
   "metadata": {},
   "source": [
    "# 2. Read the text file today.txt into the string today_string"
   ]
  },
  {
   "cell_type": "code",
   "execution_count": 2,
   "id": "da836eed",
   "metadata": {},
   "outputs": [],
   "source": [
    "with open(\"today.txt\", \"r\") as f:\n",
    "    today_string = f.read()\n"
   ]
  },
  {
   "cell_type": "markdown",
   "id": "8c6f7e2d",
   "metadata": {},
   "source": [
    "# 3. Parse the date from today_string."
   ]
  },
  {
   "cell_type": "markdown",
   "id": "24ac0117",
   "metadata": {},
   "source": [
    "* To parse the date from the string, we need to import the datetime module and use its strptime() method. \n",
    "Here's an example:"
   ]
  },
  {
   "cell_type": "code",
   "execution_count": 3,
   "id": "8b560a15",
   "metadata": {},
   "outputs": [
    {
     "name": "stdout",
     "output_type": "stream",
     "text": [
      ".conda\n",
      ".condarc\n",
      ".continuum\n",
      ".InstallAnywhere\n",
      ".ipynb_checkpoints\n",
      ".ipython\n",
      ".jupyter\n",
      ".matplotlib\n",
      "anaconda3\n",
      "ansel\n",
      "AppData\n",
      "Application Data\n",
      "Contacts\n",
      "Cookies\n",
      "Documents\n",
      "Downloads\n",
      "Favorites\n",
      "Links\n",
      "Local Settings\n",
      "logs\n",
      "Microsoft\n",
      "Music\n",
      "My Documents\n",
      "NetHood\n",
      "NTUSER.DAT\n",
      "ntuser.dat.LOG1\n",
      "ntuser.dat.LOG2\n",
      "NTUSER.DAT{28538351-a2f9-11ed-b663-cb165b91cf65}.TM.blf\n",
      "NTUSER.DAT{28538351-a2f9-11ed-b663-cb165b91cf65}.TMContainer00000000000000000001.regtrans-ms\n",
      "NTUSER.DAT{28538351-a2f9-11ed-b663-cb165b91cf65}.TMContainer00000000000000000002.regtrans-ms\n",
      "ntuser.ini\n",
      "OneDrive\n",
      "PrintHood\n",
      "Python Assignment 16-Copy1.ipynb\n",
      "Python Assignment 16.ipynb\n",
      "Python First class.ipynb\n",
      "Recent\n",
      "RETAIL.EDA\n",
      "RETAIL_EDA_PROJECT.ipynb\n",
      "Saved Games\n",
      "Searches\n",
      "SendTo\n",
      "Start Menu\n",
      "Templates\n",
      "Untitled.ipynb\n",
      "Untitled1.ipynb\n",
      "Untitled10.ipynb\n",
      "Untitled2.ipynb\n",
      "Untitled3.ipynb\n",
      "Untitled4.ipynb\n",
      "Untitled5.ipynb\n",
      "Untitled6.ipynb\n",
      "Untitled7.ipynb\n",
      "Untitled8.ipynb\n",
      "Untitled9.ipynb\n",
      "Videos\n"
     ]
    }
   ],
   "source": [
    "import os\n",
    "\n",
    "parent_dir = os.path.abspath(os.path.join(os.getcwd(), os.pardir))\n",
    "files = os.listdir(parent_dir)\n",
    "\n",
    "for file in files:\n",
    "    print(file)\n"
   ]
  },
  {
   "cell_type": "markdown",
   "id": "f0db2de8",
   "metadata": {},
   "source": [
    "# 4. List the files in your current directory"
   ]
  },
  {
   "cell_type": "code",
   "execution_count": 4,
   "id": "f611e6eb",
   "metadata": {},
   "outputs": [
    {
     "name": "stdout",
     "output_type": "stream",
     "text": [
      ".ipynb_checkpoints\n",
      "0_Python - Output Statements.ipynb\n",
      "10th_Mar_FSDA2.0(Excel-Training-File-2021).xlsx\n",
      "1_Python - Input Statements.ipynb\n",
      "30th_mar_var_expsn_forloop.ipynb\n",
      "49 Charts in Tableau - Material.zip\n",
      "4_Python - Sets.ipynb\n",
      "4_Python - Variables, Expressions _ Statements.ipynb\n",
      "5_Python - Tuples.ipynb\n",
      "6_Python - Dictionaries.ipynb\n",
      "7_Python - Conditional Executions.ipynb\n",
      "8_Python - Iterative  Executions.ipynb\n",
      "9th Oct FSDA Assignment.zip\n",
      "account.csv\n",
      "Anaconda3-2023.07-1-Windows-x86_64.exe\n",
      "ANOOP_SINGH_resume.docx\n",
      "Assignment 1.docx\n",
      "Assignment 10.docx\n",
      "Assignment 11.docx\n",
      "Assignment 12.docx\n",
      "Assignment 13 Answers.docx\n",
      "Assignment 13.docx\n",
      "Assignment 14 Answers.docx\n",
      "Assignment 15.docx\n",
      "Assignment 16.ipynb\n",
      "Assignment 17.ipynb\n",
      "Assignment 18.ipynb\n",
      "Assignment 19.ipynb\n",
      "Assignment 2.docx\n",
      "Assignment 20.ipynb\n",
      "Assignment 21.ipynb\n",
      "Assignment 22.ipynb\n",
      "Assignment 23.ipynb\n",
      "Assignment 3.docx\n",
      "Assignment 4.docx\n",
      "Assignment 5.docx\n",
      "Assignment 6.docx\n",
      "Assignment 7.docx\n",
      "Assignment 8.docx\n",
      "Assignment 9.docx\n",
      "B9ECED6F.ASUSPCAssistant_qmba6cd70vzyy!App\n",
      "Bike Sales Dashboard.xlsx\n",
      "books.csv\n",
      "books.db\n",
      "Cookie Types.xlsx\n",
      "country_flow.csv\n",
      "Customers.xlsx\n",
      "DataAnalystInterviewQuestions.pptx\n",
      "datasets\n",
      "desktop.ini\n",
      "DiscordSetup.exe\n",
      "DISPLAY_PRT-(184).pdf\n",
      "DISPLAY_PRT-(308).pdf\n",
      "Donut Chart Task.pdf\n",
      "EmployeeSalary0000002040_665800212_749496082_1292224000012567133_1688235406828.pdf\n",
      "employee_benefit_details.pdf\n",
      "error.txt\n",
      "Form12BB_VinuthaB_0000002040_665800212_749496082_1292224000012567133_1688235870885.pdf\n",
      "Form16_VinuthaB_0000002040_665800212_665856984_1292224000012567133_1683104915837.pdf\n",
      "german_credit_data_biased_training.csv\n",
      "Half Donut Chart.pbix\n",
      "halfdonughtchart_assingment4.pbix\n",
      "HEMA.V CV E01-1.pdf\n",
      "HEMA.V CV.docx\n",
      "HEMA.V CV.pdf\n",
      "Iam_policy_read_write_json\n",
      "IDS_Sec-1_CS1-CS8_Merged_Slides (1).pdf\n",
      "IGL GSP locations.pbix\n",
      "iNeuron Assignment 1.docx\n",
      "ineuron_fsda_2.0-20230403T101447Z-001\n",
      "ineuron_fsda_2.0-20230403T101447Z-001.zip\n",
      "ineuron_FSDA_2.0-main.zip\n",
      "JBS Bio Fertilizer.pptx\n",
      "LinkedIn.pbix\n",
      "linkedin_analysis.pbix\n",
      "linkedin_assignment.pbit\n",
      "LUEPYTMAY123340.pdf\n",
      "Mahadeva Prasad G B_CV_.pdf\n",
      "Mahadeva Prasad GB_CV.pdf\n",
      "MappingTask4_2.log\n",
      "Miniconda2-latest-Windows-x86_64.exe\n",
      "mysql-connector-odbc-noinstall-8.0.12-winx64\n",
      "notes.ipynb\n",
      "numpy_11042023.ipynb\n",
      "numpy_13042023.ipynb\n",
      "OfficeSetup.exe\n",
      "Orders.xlsx\n",
      "P6-AmazingMartEU2Geo.xlsx\n",
      "passport size photo.jpg\n",
      "Payslip_0000002040_Apr_2023.pdf\n",
      "Payslip_0000002040_Feb_2023.pdf\n",
      "Payslip_0000002040_Jan_2023.pdf\n",
      "Payslip_0000002040_Mar_2023.pdf\n",
      "Payslip_0000002040_May_2023.pdf\n",
      "Pink Simple Profile Resume (1).pdf\n",
      "Python Assessment 1.docx\n",
      "Python Assessment 13.docx\n",
      "Python Assessment 2.docx\n",
      "Python First Class (1).ipynb\n",
      "Relieving Letter.pdf\n",
      "Retail_Raw-20230604T052805Z-001\n",
      "sachin_Business_Analyst.pdf\n",
      "Samir_Shaikh.pdf\n",
      "Slicer assignment.pbix\n",
      "Slicer.pbix\n",
      "TableauDesktop-64bit-2023-1-0.exe\n",
      "test.txt\n",
      "today.txt\n",
      "units_flow.csv\n",
      "Untitled.ipynb\n",
      "Untitled0.ipynb\n"
     ]
    }
   ],
   "source": [
    "import os\n",
    "\n",
    "files = os.listdir('.')\n",
    "for file in files:\n",
    "    print(file)\n"
   ]
  },
  {
   "cell_type": "markdown",
   "id": "3021578c",
   "metadata": {},
   "source": [
    "# 5. Create a list of all of the files in your parent directory (minimum five files should be available)."
   ]
  },
  {
   "cell_type": "code",
   "execution_count": 5,
   "id": "badb9948",
   "metadata": {},
   "outputs": [
    {
     "name": "stdout",
     "output_type": "stream",
     "text": [
      ".conda\n",
      ".condarc\n",
      ".continuum\n",
      ".InstallAnywhere\n",
      ".ipynb_checkpoints\n",
      ".ipython\n",
      ".jupyter\n",
      ".matplotlib\n",
      "anaconda3\n",
      "ansel\n",
      "AppData\n",
      "Application Data\n",
      "Contacts\n",
      "Cookies\n",
      "Documents\n",
      "Downloads\n",
      "Favorites\n",
      "Links\n",
      "Local Settings\n",
      "logs\n",
      "Microsoft\n",
      "Music\n",
      "My Documents\n",
      "NetHood\n",
      "NTUSER.DAT\n",
      "ntuser.dat.LOG1\n",
      "ntuser.dat.LOG2\n",
      "NTUSER.DAT{28538351-a2f9-11ed-b663-cb165b91cf65}.TM.blf\n",
      "NTUSER.DAT{28538351-a2f9-11ed-b663-cb165b91cf65}.TMContainer00000000000000000001.regtrans-ms\n",
      "NTUSER.DAT{28538351-a2f9-11ed-b663-cb165b91cf65}.TMContainer00000000000000000002.regtrans-ms\n",
      "ntuser.ini\n",
      "OneDrive\n",
      "PrintHood\n",
      "Python Assignment 16-Copy1.ipynb\n",
      "Python Assignment 16.ipynb\n",
      "Python First class.ipynb\n",
      "Recent\n",
      "RETAIL.EDA\n",
      "RETAIL_EDA_PROJECT.ipynb\n",
      "Saved Games\n",
      "Searches\n",
      "SendTo\n",
      "Start Menu\n",
      "Templates\n",
      "Untitled.ipynb\n",
      "Untitled1.ipynb\n",
      "Untitled10.ipynb\n",
      "Untitled2.ipynb\n",
      "Untitled3.ipynb\n",
      "Untitled4.ipynb\n",
      "Untitled5.ipynb\n",
      "Untitled6.ipynb\n",
      "Untitled7.ipynb\n",
      "Untitled8.ipynb\n",
      "Untitled9.ipynb\n",
      "Videos\n"
     ]
    }
   ],
   "source": [
    "import os\n",
    "\n",
    "parent_dir = os.path.abspath(os.path.join(os.getcwd(), os.pardir))\n",
    "files = os.listdir(parent_dir)\n",
    "\n",
    "for file in files:\n",
    "    print(file)\n"
   ]
  },
  {
   "cell_type": "markdown",
   "id": "732eff29",
   "metadata": {},
   "source": [
    "# 6. Use multiprocessing to create three separate processes. Make each one wait a random number of seconds between one and five, print the current time, and then exit."
   ]
  },
  {
   "cell_type": "code",
   "execution_count": 6,
   "id": "07d98cba",
   "metadata": {},
   "outputs": [],
   "source": [
    "import multiprocessing\n",
    "import random\n",
    "import time\n",
    "import datetime\n",
    "\n",
    "def wait_and_print():\n",
    "    wait_time = random.randint(1, 5)\n",
    "    time.sleep(wait_time)\n",
    "    current_time = datetime.datetime.now().strftime(\"%Y-%m-%d %H:%M:%S\")\n",
    "    print(f\"Process {multiprocessing.current_process().name} waited for {wait_time} seconds and printed at {current_time}\")\n",
    "\n",
    "if __name__ == '__main__':\n",
    "    processes = []\n",
    "    for i in range(3):\n",
    "        p = multiprocessing.Process(target=wait_and_print, name=f\"Process-{i}\")\n",
    "        processes.append(p)\n",
    "        p.start()\n",
    "\n",
    "    for p in processes:\n",
    "        p.join()\n"
   ]
  },
  {
   "cell_type": "markdown",
   "id": "f096dd71",
   "metadata": {},
   "source": [
    "# 7. Create a date object of your day of birth."
   ]
  },
  {
   "cell_type": "code",
   "execution_count": 11,
   "id": "0fc0fedb",
   "metadata": {},
   "outputs": [
    {
     "name": "stdout",
     "output_type": "stream",
     "text": [
      "1996-11-03\n"
     ]
    }
   ],
   "source": [
    "from datetime import date\n",
    "\n",
    "my_birthdate = date(1996, 11, 3)\n",
    "print(my_birthdate)\n"
   ]
  },
  {
   "cell_type": "markdown",
   "id": "88cfcb1f",
   "metadata": {},
   "source": [
    "# 8. What day of the week was your day of birth?"
   ]
  },
  {
   "cell_type": "code",
   "execution_count": 17,
   "id": "88b5bdfe",
   "metadata": {},
   "outputs": [
    {
     "name": "stdout",
     "output_type": "stream",
     "text": [
      "Sunday\n"
     ]
    }
   ],
   "source": [
    "from datetime import date\n",
    "\n",
    "birth_date = date(1996, 11, 3) \n",
    "day_of_week = birth_date.strftime(\"%A\")\n",
    "print(day_of_week)"
   ]
  },
  {
   "cell_type": "markdown",
   "id": "c8602bb7",
   "metadata": {},
   "source": [
    "# 10. When will you be (or when were you) 10,000 days old?"
   ]
  },
  {
   "cell_type": "code",
   "execution_count": 19,
   "id": "a95e51a9",
   "metadata": {},
   "outputs": [
    {
     "name": "stdout",
     "output_type": "stream",
     "text": [
      "2024-03-21\n"
     ]
    }
   ],
   "source": [
    "import datetime\n",
    "\n",
    "birthday = datetime.date(1996, 11, 3)  \n",
    "days = datetime.timedelta(days=10000)\n",
    "ten_thousand_days_old = birthday + days\n",
    "print(ten_thousand_days_old)\n"
   ]
  },
  {
   "cell_type": "code",
   "execution_count": null,
   "id": "7620cead",
   "metadata": {},
   "outputs": [],
   "source": []
  }
 ],
 "metadata": {
  "kernelspec": {
   "display_name": "Python 3 (ipykernel)",
   "language": "python",
   "name": "python3"
  },
  "language_info": {
   "codemirror_mode": {
    "name": "ipython",
    "version": 3
   },
   "file_extension": ".py",
   "mimetype": "text/x-python",
   "name": "python",
   "nbconvert_exporter": "python",
   "pygments_lexer": "ipython3",
   "version": "3.11.3"
  }
 },
 "nbformat": 4,
 "nbformat_minor": 5
}
